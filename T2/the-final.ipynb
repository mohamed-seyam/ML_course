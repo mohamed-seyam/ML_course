{
 "cells": [
  {
   "cell_type": "markdown",
   "metadata": {},
   "source": [
    "# Uni-variate Linear Regression"
   ]
  },
  {
   "cell_type": "code",
   "execution_count": 133,
   "metadata": {},
   "outputs": [],
   "source": [
    "import pandas as pd \n",
    "import numpy as np\n",
    "import matplotlib.pyplot as plt "
   ]
  },
  {
   "cell_type": "code",
   "execution_count": 134,
   "metadata": {},
   "outputs": [],
   "source": [
    "data = pd.read_csv(\"./data/ex1data1.txt\", header = None)\n",
    "x = data.iloc[:,0:1]\n",
    "y = np.array(data.iloc[:,-1:])\n",
    "m = len(y)\n",
    "x.insert(0,\"00\",np.ones(m),True)\n",
    "x = np.array(x)\n",
    "iteration = 1500\n",
    "alpha = .01\n",
    "theta = np.zeros((x.shape[1],1))\n"
   ]
  },
  {
   "cell_type": "code",
   "execution_count": 135,
   "metadata": {},
   "outputs": [
    {
     "data": {
      "text/plain": [
       "((97, 2), (97, 1), (2, 1))"
      ]
     },
     "execution_count": 135,
     "metadata": {},
     "output_type": "execute_result"
    }
   ],
   "source": [
    "x.shape, y.shape , theta.shape"
   ]
  },
  {
   "cell_type": "code",
   "execution_count": 136,
   "metadata": {},
   "outputs": [],
   "source": [
    "def compute_cost(x,y,theta):\n",
    "        m = len(y)\n",
    "        h = np.matmul(x,theta)\n",
    "        sE = np.power((h-y),2)\n",
    "        J_theta = (1/(2*m))*np.sum(sE)\n",
    "        return J_theta"
   ]
  },
  {
   "cell_type": "code",
   "execution_count": 137,
   "metadata": {},
   "outputs": [
    {
     "data": {
      "text/plain": [
       "32.072733877455676"
      ]
     },
     "execution_count": 137,
     "metadata": {},
     "output_type": "execute_result"
    }
   ],
   "source": [
    "compute_cost(x,y,theta)"
   ]
  },
  {
   "cell_type": "code",
   "execution_count": 138,
   "metadata": {},
   "outputs": [],
   "source": [
    "h = np.matmul(x,theta)"
   ]
  },
  {
   "cell_type": "code",
   "execution_count": 139,
   "metadata": {},
   "outputs": [],
   "source": [
    "def gradient_descent(x,y,theta,n_iter, l_rate):\n",
    "    m  =len(y)\n",
    "    J_history = []\n",
    "    h = np.dot(x,theta)\n",
    "    for i in range(n_iter):\n",
    "            h = np.matmul(x,theta)\n",
    "            E = h-y\n",
    "            error = np.dot(x.transpose(),E)\n",
    "            theta = theta - (l_rate/m) *error\n",
    "            \n",
    "    return theta ,  J_history\n",
    "        "
   ]
  },
  {
   "cell_type": "code",
   "execution_count": 140,
   "metadata": {},
   "outputs": [],
   "source": [
    "theta, J_history = gradient_descent(x,y,theta,iteration,alpha)"
   ]
  },
  {
   "cell_type": "code",
   "execution_count": 141,
   "metadata": {},
   "outputs": [
    {
     "data": {
      "text/plain": [
       "array([[-3.63029144],\n",
       "       [ 1.16636235]])"
      ]
     },
     "execution_count": 141,
     "metadata": {},
     "output_type": "execute_result"
    }
   ],
   "source": [
    "theta"
   ]
  },
  {
   "cell_type": "markdown",
   "metadata": {},
   "source": [
    "# Multi-variate gradient descent "
   ]
  },
  {
   "cell_type": "code",
   "execution_count": 208,
   "metadata": {},
   "outputs": [],
   "source": [
    "data = pd.read_csv(\"./data/ex1data2.txt\", header = None)\n",
    "x = np.asarray(data.iloc[:,0:-1])\n",
    "y = np.asarray(data.iloc[:,-1:])\n",
    "m2 = len(y)\n",
    "\n",
    "iteration = 1500\n",
    "alpha = .01\n",
    "theta = np.zeros((x.shape[1],1))\n"
   ]
  },
  {
   "cell_type": "code",
   "execution_count": 209,
   "metadata": {},
   "outputs": [],
   "source": [
    "def normalize(x):\n",
    "    norm = np.linalg.norm(x)\n",
    "    return x / norm"
   ]
  },
  {
   "cell_type": "code",
   "execution_count": 210,
   "metadata": {},
   "outputs": [],
   "source": [
    "x = normalize(x)"
   ]
  },
  {
   "cell_type": "code",
   "execution_count": 211,
   "metadata": {},
   "outputs": [
    {
     "data": {
      "text/plain": [
       "array([[1.42769657e-01, 2.03568903e-04],\n",
       "       [1.08570081e-01, 2.03568903e-04],\n",
       "       [1.62855122e-01, 2.03568903e-04],\n",
       "       [9.60845220e-02, 1.35712602e-04],\n",
       "       [2.03568903e-01, 2.71425203e-04],\n",
       "       [1.34694757e-01, 2.71425203e-04],\n",
       "       [1.04091565e-01, 2.03568903e-04],\n",
       "       [9.68309413e-02, 2.03568903e-04],\n",
       "       [9.36416952e-02, 2.03568903e-04],\n",
       "       [1.01377313e-01, 2.03568903e-04],\n",
       "       [1.31641224e-01, 2.71425203e-04],\n",
       "       [1.35712602e-01, 2.03568903e-04],\n",
       "       [1.28248409e-01, 2.03568903e-04],\n",
       "       [3.03860515e-01, 3.39281504e-04],\n",
       "       [8.60417895e-02, 2.03568903e-04],\n",
       "       [1.56069492e-01, 2.71425203e-04],\n",
       "       [8.95703171e-02, 1.35712602e-04],\n",
       "       [8.38703878e-02, 2.03568903e-04],\n",
       "       [1.77037089e-01, 2.71425203e-04],\n",
       "       [2.05672448e-01, 2.71425203e-04],\n",
       "       [1.19902084e-01, 2.03568903e-04],\n",
       "       [1.28112696e-01, 1.35712602e-04],\n",
       "       [1.08841507e-01, 2.03568903e-04],\n",
       "       [1.33134062e-01, 2.71425203e-04],\n",
       "       [2.63961010e-01, 2.03568903e-04],\n",
       "       [7.46419309e-02, 2.03568903e-04],\n",
       "       [9.89344866e-02, 2.03568903e-04],\n",
       "       [1.71405016e-01, 2.03568903e-04],\n",
       "       [1.49283862e-01, 2.03568903e-04],\n",
       "       [1.78937065e-01, 2.03568903e-04],\n",
       "       [1.24787737e-01, 1.35712602e-04],\n",
       "       [6.78563008e-02, 6.78563008e-05],\n",
       "       [1.38426854e-01, 2.71425203e-04],\n",
       "       [2.12865216e-01, 2.03568903e-04],\n",
       "       [1.22887761e-01, 2.71425203e-04],\n",
       "       [9.75095043e-02, 2.03568903e-04],\n",
       "       [8.40739567e-02, 2.03568903e-04],\n",
       "       [1.44669633e-01, 2.71425203e-04],\n",
       "       [2.86014308e-01, 2.71425203e-04],\n",
       "       [1.46705322e-01, 2.71425203e-04],\n",
       "       [1.12912885e-01, 1.35712602e-04],\n",
       "       [1.51862401e-01, 2.03568903e-04],\n",
       "       [1.74187124e-01, 2.71425203e-04],\n",
       "       [8.14275610e-02, 2.03568903e-04],\n",
       "       [5.78135683e-02, 1.35712602e-04],\n",
       "       [1.25669869e-01, 2.71425203e-04],\n",
       "       [8.16311299e-02, 2.03568903e-04]])"
      ]
     },
     "execution_count": 211,
     "metadata": {},
     "output_type": "execute_result"
    }
   ],
   "source": [
    "x"
   ]
  },
  {
   "cell_type": "code",
   "execution_count": 212,
   "metadata": {},
   "outputs": [],
   "source": [
    "x1 = np.append(np.ones((m2,1)),x , axis = 1)"
   ]
  },
  {
   "cell_type": "code",
   "execution_count": 149,
   "metadata": {},
   "outputs": [],
   "source": [
    "test = np.ones((m2,1))"
   ]
  },
  {
   "cell_type": "code",
   "execution_count": 150,
   "metadata": {},
   "outputs": [
    {
     "data": {
      "text/plain": [
       "(47, 1)"
      ]
     },
     "execution_count": 150,
     "metadata": {},
     "output_type": "execute_result"
    }
   ],
   "source": [
    "test.shape"
   ]
  }
 ],
 "metadata": {
  "kernelspec": {
   "display_name": "Python 3",
   "language": "python",
   "name": "python3"
  },
  "language_info": {
   "codemirror_mode": {
    "name": "ipython",
    "version": 3
   },
   "file_extension": ".py",
   "mimetype": "text/x-python",
   "name": "python",
   "nbconvert_exporter": "python",
   "pygments_lexer": "ipython3",
   "version": "3.8.3"
  }
 },
 "nbformat": 4,
 "nbformat_minor": 4
}
