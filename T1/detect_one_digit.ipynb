{
 "cells": [
  {
   "cell_type": "code",
   "execution_count": 3,
   "metadata": {},
   "outputs": [],
   "source": [
    "## import the library needed \n",
    "import numpy as np \n",
    "import pandas as pd \n",
    "import matplotlib\n",
    "import matplotlib.pyplot as plt\n",
    "import seaborn as sns\n",
    "import os\n",
    "from sklearn.linear_model import LogisticRegression\n",
    "import idx2numpy\n",
    "from sklearn.metrics import confusion_matrix\n",
    "from sklearn.metrics import classification_report"
   ]
  },
  {
   "cell_type": "code",
   "execution_count": 38,
   "metadata": {},
   "outputs": [],
   "source": [
    "# this class hold all functions you neeed in your model \n",
    "class pre_model () :\n",
    "    data = {}\n",
    "    predictions = {}\n",
    "    def __init__ (self,number): \n",
    "        self.number_need = number\n",
    "    \n",
    "    def read_data (self) :\n",
    "        x_train = idx2numpy.convert_from_file(\"data/train-images.idx3-ubyte\")\n",
    "        y_train = pd.DataFrame(idx2numpy.convert_from_file(\"data/train-labels.idx1-ubyte\"),columns = [\"label\"])\n",
    "        x_test  = idx2numpy.convert_from_file(\"data/t10k-images.idx3-ubyte\")\n",
    "        y_test  = pd.DataFrame(idx2numpy.convert_from_file(\"data/t10k-labels.idx1-ubyte\"),columns = [\"labels\"])\n",
    "        \n",
    "        x_train = pd.DataFrame(x_train.reshape(x_train.shape[0],x_train.shape[1]*x_train.shape[2]))\n",
    "        x_test = pd.DataFrame(x_test.reshape(x_test.shape[0],x_test.shape[1]*x_test.shape[2]))\n",
    "\n",
    "        self.data = {\n",
    "            \"x_train\" : x_train,\n",
    "            \"y_train\"  : y_train,\n",
    "            \"x_test\" : x_test,\n",
    "            \"y_test\" : y_test\n",
    "        }\n",
    "        return self.data \n",
    "    \n",
    "    def normalize (self) :\n",
    "        x_train_norm = self.data[\"x_train\"] / 255.0\n",
    "\n",
    "        data = {\n",
    "            \"x_train\" : x_train_norm,\n",
    "             \"y_train\": self.data[\"y_train\"],\n",
    "             \"x_test\"  : self.data[\"x_test\"],\n",
    "             \"y_test\" : self.data[\"y_test\"]\n",
    "        }\n",
    "\n",
    "        return self.data \n",
    "        \n",
    "    def plot_summary_of_data (self) :\n",
    "        sns.set()\n",
    "        return sns.countplot(x= \"label\" , data= self.data[\"y_train\"])\n",
    "\n",
    "    def show_examples (self) :\n",
    "        x_train = self.data[\"x_train\"]\n",
    "        examples = x_train[100:105].to_numpy()\n",
    "        _, axes = plt.subplots(nrows=1, ncols=5, figsize=(10, 3))\n",
    "        for ax, image in zip(axes, examples):\n",
    "            ax.set_axis_off()\n",
    "            image = image.reshape(28, 28)\n",
    "            ax.imshow(image, cmap=plt.cm.gray_r, interpolation='nearest')\n",
    "        return plt.show()\n",
    "    \n",
    "    def convert_MC_to_BC(self):\n",
    "        y_train = (self.data[\"y_train\"] == self.number_need )\n",
    "        y_test = (self.data[\"y_test\"] == self.number_need)\n",
    "        self.data = {\n",
    "            'x_train' : self.data[\"x_train\"],\n",
    "            'y_train' : y_train,\n",
    "            'x_test'  : self.data['x_test'],\n",
    "            'y_test' : y_test\n",
    "        }\n",
    "        \n",
    "        return self.data \n",
    "   \n",
    "    def  make_test_predictions (self):\n",
    "        model = LogisticRegression(max_iter = 100 )\n",
    "        model.fit(self.data[\"x_train\"],self.data[\"y_train\"])\n",
    "        train_predictions = model.predict(self.data[\"x_train\"]).reshape(-1,1)\n",
    "        test_predictions = model.predict(self.data[\"x_test\"]).reshape(-1,1)\n",
    "        self.predictions = {\n",
    "            \"train_predictions\" : train_predictions,\n",
    "            \"test_predictions\" : test_predictions\n",
    "        }\n",
    "        print(\"train accuracy is = \", np.mean(self.data[\"y_train\"] == train_predictions))\n",
    "        print(\"test accuracy is = \", np.mean(self.data[\"y_test\"] == test_predictions))\n",
    "        return self.predictions\n",
    "    \n",
    "    \n",
    "    def make_plot_for_testing_data(self):\n",
    "        x_test = self.data[\"x_test\"].to_numpy()\n",
    "        predictions = self.predictions[\"test_predictions\"]\n",
    "        _, axes = plt.subplots(nrows=1, ncols=10, figsize=(10, 3))\n",
    "        for ax, image , prediction in zip(axes, x_test , predictions):\n",
    "            ax.set_axis_off()\n",
    "            image = image.reshape(28, 28)\n",
    "            ax.imshow(image, cmap=plt.cm.gray_r, interpolation='nearest')\n",
    "            ax.set_title(f\"{prediction}\")\n",
    "        return plt.show()\n",
    "    \n",
    "    def confusion_matrix (self):\n",
    "                        # actual values\n",
    "            actual = self.data[\"y_test\"]\n",
    "            # predicted values\n",
    "            predicted = self.predictions[\"test_predictions\"]\n",
    "\n",
    "            # confusion matrix\n",
    "            matrix = confusion_matrix(predicted,actual)\n",
    "            tp, fn, fp, tn = matrix[0][0], matrix[0][1],matrix[1][0], matrix[1][1]\n",
    "            print(f\"tp ={tp}  fn = {fn}  fp = {fp}  tn={tn}\")\n",
    "            precision =  tp/(tp+fp)\n",
    "            recall = tp/(tp+fn)\n",
    "            f1score = 2/((1/recall)+(1/precision))\n",
    "            print(f\"precision is : {precision} , recall is = {recall } , f1score = {f1score}\")\n",
    "            df_cm = pd.DataFrame(matrix, index = [i for i in range(matrix.shape[1])],\n",
    "                              columns =[i for i in range(matrix.shape[0])] )\n",
    "            plt.figure(figsize = (10,7))\n",
    "            sns.heatmap(df_cm, annot=True)\n",
    "            \n",
    "            return plt.show()\n",
    "    \n",
    "\n",
    "    \n",
    "    \n",
    "    \n"
   ]
  },
  {
   "cell_type": "code",
   "execution_count": 39,
   "metadata": {},
   "outputs": [
    {
     "data": {
      "image/png": "[encoded data removed]",
      "text/plain": [
       "<Figure size 432x288 with 1 Axes>"
      ]
     },
     "metadata": {},
     "output_type": "display_data"
    },
    {
     "data": {
      "image/png": "[encoded data removed]",
      "text/plain": [
       "<Figure size 720x216 with 5 Axes>"
      ]
     },
     "metadata": {},
     "output_type": "display_data"
    },
    {
     "name": "stderr",
     "output_type": "stream",
     "text": [
      "C:\\Users\\mohamed seyam\\anaconda3\\lib\\site-packages\\sklearn\\utils\\validation.py:73: DataConversionWarning: A column-vector y was passed when a 1d array was expected. Please change the shape of y to (n_samples, ), for example using ravel().\n",
      "  return f(**kwargs)\n",
      "C:\\Users\\mohamed seyam\\anaconda3\\lib\\site-packages\\sklearn\\linear_model\\_logistic.py:762: ConvergenceWarning: lbfgs failed to converge (status=1):\n",
      "STOP: TOTAL NO. of ITERATIONS REACHED LIMIT.\n",
      "\n",
      "Increase the number of iterations (max_iter) or scale the data as shown in:\n",
      "    https://scikit-learn.org/stable/modules/preprocessing.html\n",
      "Please also refer to the documentation for alternative solver options:\n",
      "    https://scikit-learn.org/stable/modules/linear_model.html#logistic-regression\n",
      "  n_iter_i = _check_optimize_result(\n"
     ]
    },
    {
     "name": "stdout",
     "output_type": "stream",
     "text": [
      "train accuracy is =  label    0.993283\n",
      "dtype: float64\n",
      "test accuracy is =  labels    0.9922\n",
      "dtype: float64\n"
     ]
    },
    {
     "data": {
      "image/png": "[encoded data removed]",
      "text/plain": [
       "<Figure size 720x216 with 10 Axes>"
      ]
     },
     "metadata": {},
     "output_type": "display_data"
    },
    {
     "name": "stdout",
     "output_type": "stream",
     "text": [
      "tp =8974  fn = 32  fp = 46  tn=948\n",
      "precision is : 0.99490022172949 , recall is = 0.9964468132356207 , f1score = 0.9956729168978143\n"
     ]
    },
    {
     "data": {
      "image/png": "[encoded data removed]",
      "text/plain": [
       "<Figure size 720x504 with 2 Axes>"
      ]
     },
     "metadata": {},
     "output_type": "display_data"
    }
   ],
   "source": [
    "pre_model = pre_model(0)\n",
    "pre_model.read_data()\n",
    "pre_model.normalize()\n",
    "pre_model.plot_summary_of_data()\n",
    "pre_model.show_examples()\n",
    "data = pre_model.convert_MC_to_BC()\n",
    "predictions = pre_model.make_test_predictions()\n",
    "pre_model.make_plot_for_testing_data()\n",
    "pre_model.confusion_matrix()"
   ]
  },
  {
   "cell_type": "code",
   "execution_count": null,
   "metadata": {},
   "outputs": [],
   "source": []
  }
 ],
 "metadata": {
  "kernelspec": {
   "display_name": "Python 3",
   "language": "python",
   "name": "python3"
  },
  "language_info": {
   "codemirror_mode": {
    "name": "ipython",
    "version": 3
   },
   "file_extension": ".py",
   "mimetype": "text/x-python",
   "name": "python",
   "nbconvert_exporter": "python",
   "pygments_lexer": "ipython3",
   "version": "3.8.3"
  }
 },
 "nbformat": 4,
 "nbformat_minor": 4
}
