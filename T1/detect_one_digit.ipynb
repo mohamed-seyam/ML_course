{
 "cells": [
  {
   "cell_type": "code",
   "execution_count": 68,
   "metadata": {},
   "outputs": [],
   "source": [
    "## import the library needed \n",
    "import numpy as np \n",
    "import pandas as pd \n",
    "import matplotlib\n",
    "import matplotlib.pyplot as plt\n",
    "import seaborn as sns\n",
    "import os\n",
    "from sklearn.linear_model import LogisticRegression\n",
    "import idx2numpy\n",
    "from sklearn.metrics import confusion_matrix\n",
    "from sklearn.metrics import classification_report"
   ]
  },
  {
   "cell_type": "code",
   "execution_count": 88,
   "metadata": {},
   "outputs": [],
   "source": [
    "# this class hold all functions you neeed in your model \n",
    "class pre_model () :\n",
    "    data = {}\n",
    "    predictions = {}\n",
    "    def __init__ (self,number): \n",
    "        self.number_need = number\n",
    "    \n",
    "    def read_data (self) :\n",
    "        x_train = idx2numpy.convert_from_file(\"data/train-images.idx3-ubyte\")\n",
    "        y_train = pd.DataFrame(idx2numpy.convert_from_file(\"data/train-labels.idx1-ubyte\"),columns = [\"label\"])\n",
    "        x_test  = idx2numpy.convert_from_file(\"data/t10k-images.idx3-ubyte\")\n",
    "        y_test  = pd.DataFrame(idx2numpy.convert_from_file(\"data/t10k-labels.idx1-ubyte\"),columns = [\"labels\"])\n",
    "        \n",
    "        x_train = pd.DataFrame(x_train.reshape(x_train.shape[0],x_train.shape[1]*x_train.shape[2]))\n",
    "        x_test = pd.DataFrame(x_test.reshape(x_test.shape[0],x_test.shape[1]*x_test.shape[2]))\n",
    "\n",
    "        self.data = {\n",
    "            \"x_train\" : x_train,\n",
    "            \"y_train\"  : y_train,\n",
    "            \"x_test\" : x_test,\n",
    "            \"y_test\" : y_test\n",
    "        }\n",
    "        return self.data \n",
    "    \n",
    "    def normalize (self) :\n",
    "        x_train_norm = self.data[\"x_train\"] / 255.0\n",
    "\n",
    "        data = {\n",
    "            \"x_train\" : x_train_norm,\n",
    "             \"y_train\": self.data[\"y_train\"],\n",
    "             \"x_test\"  : self.data[\"x_test\"],\n",
    "             \"y_test\" : self.data[\"y_test\"]\n",
    "        }\n",
    "\n",
    "        return self.data \n",
    "        \n",
    "    def plot_summary_of_data (self) :\n",
    "        sns.set()\n",
    "        return sns.countplot(x= \"label\" , data= self.data[\"y_train\"])\n",
    "\n",
    "    def show_examples (self) :\n",
    "        x_train = self.data[\"x_train\"]\n",
    "        examples = x_train[100:105].to_numpy()\n",
    "        _, axes = plt.subplots(nrows=1, ncols=5, figsize=(10, 3))\n",
    "        for ax, image in zip(axes, examples):\n",
    "            ax.set_axis_off()\n",
    "            image = image.reshape(28, 28)\n",
    "            ax.imshow(image, cmap=plt.cm.gray_r, interpolation='nearest')\n",
    "        return plt.show()\n",
    "    \n",
    "    def convert_MC_to_BC(self):\n",
    "        y_train = (self.data[\"y_train\"] == self.number_need )\n",
    "        y_test = (self.data[\"y_test\"] == self.number_need)\n",
    "        self.data = {\n",
    "            'x_train' : self.data[\"x_train\"],\n",
    "            'y_train' : y_train,\n",
    "            'x_test'  : self.data['x_test'],\n",
    "            'y_test' : y_test\n",
    "        }\n",
    "        \n",
    "        return self.data \n",
    "   \n",
    "    def  make_test_predictions (self):\n",
    "        model = LogisticRegression(max_iter = 100 )\n",
    "        model.fit(self.data[\"x_train\"],self.data[\"y_train\"])\n",
    "        train_predictions = model.predict(self.data[\"x_train\"]).reshape(-1,1)\n",
    "        test_predictions = model.predict(self.data[\"x_test\"]).reshape(-1,1)\n",
    "        self.predictions = {\n",
    "            \"train_predictions\" : train_predictions,\n",
    "            \"test_predictions\" : test_predictions\n",
    "        }\n",
    "        print(\"train accuracy is = \", np.mean(self.data[\"y_train\"] == train_predictions))\n",
    "        print(\"test accuracy is = \", np.mean(self.data[\"y_test\"] == test_predictions))\n",
    "        return self.predictions\n",
    "    \n",
    "    \n",
    "    def make_plot_for_testing_data(self):\n",
    "        x_test = self.data[\"x_test\"].to_numpy()\n",
    "        predictions = self.predictions[\"test_predictions\"]\n",
    "        _, axes = plt.subplots(nrows=1, ncols=10, figsize=(10, 3))\n",
    "        for ax, image , prediction in zip(axes, x_test , predictions):\n",
    "            ax.set_axis_off()\n",
    "            image = image.reshape(28, 28)\n",
    "            ax.imshow(image, cmap=plt.cm.gray_r, interpolation='nearest')\n",
    "            ax.set_title(f\"{prediction}\")\n",
    "        return plt.show()\n",
    "    \n",
    "    def confusion_matrix (self):\n",
    "                        # actual values\n",
    "            actual = self.data[\"y_test\"]\n",
    "            # predicted values\n",
    "            predicted = self.predictions[\"test_predictions\"]\n",
    "\n",
    "            # confusion matrix\n",
    "            matrix = confusion_matrix(actual,predicted, labels=[1,0])\n",
    "            print('Confusion matrix : \\n',matrix)\n",
    "\n",
    "            # outcome values order in sklearn\n",
    "            tp, fn, fp, tn = confusion_matrix(actual,predicted,labels=[1,0]).reshape(-1)\n",
    "            print('Outcome values : \\n', tp, fn, fp, tn)\n",
    "\n",
    "            # classification report for precision, recall f1-score and accuracy\n",
    "            matrix = classification_report(actual,predicted,labels=[1,0])\n",
    "            print('Classification report : \\n',matrix)\n",
    "            \n",
    "            return \n",
    "    \n",
    "\n",
    "    \n",
    "    \n",
    "    \n"
   ]
  },
  {
   "cell_type": "code",
   "execution_count": 87,
   "metadata": {},
   "outputs": [
    {
     "data": {
      "image/png": "[encoded data removed]",
      "text/plain": [
       "<Figure size 432x288 with 1 Axes>"
      ]
     },
     "metadata": {},
     "output_type": "display_data"
    },
    {
     "data": {
      "image/png": "[encoded data removed]",
      "text/plain": [
       "<Figure size 720x216 with 5 Axes>"
      ]
     },
     "metadata": {},
     "output_type": "display_data"
    },
    {
     "name": "stderr",
     "output_type": "stream",
     "text": [
      "C:\\Users\\mohamed seyam\\anaconda3\\lib\\site-packages\\sklearn\\utils\\validation.py:73: DataConversionWarning: A column-vector y was passed when a 1d array was expected. Please change the shape of y to (n_samples, ), for example using ravel().\n",
      "  return f(**kwargs)\n",
      "C:\\Users\\mohamed seyam\\anaconda3\\lib\\site-packages\\sklearn\\linear_model\\_logistic.py:762: ConvergenceWarning: lbfgs failed to converge (status=1):\n",
      "STOP: TOTAL NO. of ITERATIONS REACHED LIMIT.\n",
      "\n",
      "Increase the number of iterations (max_iter) or scale the data as shown in:\n",
      "    https://scikit-learn.org/stable/modules/preprocessing.html\n",
      "Please also refer to the documentation for alternative solver options:\n",
      "    https://scikit-learn.org/stable/modules/linear_model.html#logistic-regression\n",
      "  n_iter_i = _check_optimize_result(\n"
     ]
    },
    {
     "name": "stdout",
     "output_type": "stream",
     "text": [
      "train accuracy is =  label    0.993283\n",
      "dtype: float64\n",
      "test accuracy is =  labels    0.9922\n",
      "dtype: float64\n"
     ]
    },
    {
     "data": {
      "image/png": "[encoded data removed]",
      "text/plain": [
       "<Figure size 720x216 with 10 Axes>"
      ]
     },
     "metadata": {},
     "output_type": "display_data"
    },
    {
     "name": "stdout",
     "output_type": "stream",
     "text": [
      "Confusion matrix : \n",
      " [[ 948   32]\n",
      " [  46 8974]]\n",
      "Outcome values : \n",
      " 948 32 46 8974\n",
      "Classification report : \n",
      "               precision    recall  f1-score   support\n",
      "\n",
      "           1       0.95      0.97      0.96       980\n",
      "           0       1.00      0.99      1.00      9020\n",
      "\n",
      "    accuracy                           0.99     10000\n",
      "   macro avg       0.98      0.98      0.98     10000\n",
      "weighted avg       0.99      0.99      0.99     10000\n",
      "\n"
     ]
    }
   ],
   "source": [
    "pre_model = pre_model(0)\n",
    "pre_model.read_data()\n",
    "pre_model.normalize()\n",
    "pre_model.plot_summary_of_data()\n",
    "pre_model.show_examples()\n",
    "data = pre_model.convert_MC_to_BC()\n",
    "predictions = pre_model.make_test_predictions()\n",
    "pre_model.make_plot_for_testing_data()\n",
    "pre_model.confusion_matrix()"
   ]
  },
  {
   "cell_type": "code",
   "execution_count": 85,
   "metadata": {},
   "outputs": [
    {
     "data": {
      "text/plain": [
       "{'train_predictions': array([[False],\n",
       "        [ True],\n",
       "        [False],\n",
       "        ...,\n",
       "        [False],\n",
       "        [False],\n",
       "        [False]]),\n",
       " 'test_predictions': array([[False],\n",
       "        [False],\n",
       "        [False],\n",
       "        ...,\n",
       "        [False],\n",
       "        [False],\n",
       "        [False]])}"
      ]
     },
     "execution_count": 85,
     "metadata": {},
     "output_type": "execute_result"
    }
   ],
   "source": [
    "predictions"
   ]
  },
  {
   "cell_type": "code",
   "execution_count": 305,
   "metadata": {},
   "outputs": [
    {
     "data": {
      "image/png": "[encoded data removed]",
      "text/plain": [
       "<Figure size 720x216 with 16 Axes>"
      ]
     },
     "metadata": {},
     "output_type": "display_data"
    }
   ],
   "source": [
    "x_test = data[\"x_test\"].to_numpy()\n",
    "_, axes = plt.subplots(nrows=1, ncols=16, figsize=(10, 3))\n",
    "for ax, image, prediction in zip(axes, x_test, predictions):\n",
    "    ax.set_axis_off()\n",
    "    image = image.reshape(28, 28)\n",
    "    ax.imshow(image, cmap=plt.cm.gray_r, interpolation='nearest')\n",
    "    ax.set_title(f' {prediction}')"
   ]
  },
  {
   "cell_type": "code",
   "execution_count": null,
   "metadata": {},
   "outputs": [],
   "source": []
  }
 ],
 "metadata": {
  "kernelspec": {
   "display_name": "Python 3",
   "language": "python",
   "name": "python3"
  },
  "language_info": {
   "codemirror_mode": {
    "name": "ipython",
    "version": 3
   },
   "file_extension": ".py",
   "mimetype": "text/x-python",
   "name": "python",
   "nbconvert_exporter": "python",
   "pygments_lexer": "ipython3",
   "version": "3.8.3"
  }
 },
 "nbformat": 4,
 "nbformat_minor": 4
}
