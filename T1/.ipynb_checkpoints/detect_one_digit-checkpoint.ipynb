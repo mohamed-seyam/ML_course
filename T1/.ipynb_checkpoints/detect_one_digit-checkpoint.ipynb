{
 "cells": [
  {
   "cell_type": "code",
   "execution_count": 156,
   "metadata": {},
   "outputs": [],
   "source": [
    "import numpy as np \n",
    "import pandas as pd \n",
    "import matplotlib\n",
    "import matplotlib.pyplot as plt\n",
    "import seaborn as sns\n",
    "import os\n",
    "from sklearn.linear_model import LogisticRegression\n",
    "import idx2numpy"
   ]
  },
  {
   "cell_type": "code",
   "execution_count": 237,
   "metadata": {},
   "outputs": [],
   "source": [
    "class pre_model () :\n",
    "    data = {}\n",
    "    def __init__ (self,number):\n",
    "        self.url = url \n",
    "        self.number_need = number\n",
    "        \n",
    "    def read_data (self) :\n",
    "        x_train = idx2numpy.convert_from_file(\"data/train-images.idx3-ubyte\")\n",
    "        y_train = idx2numpy.convert_from_file(\"data/train-labels.idx1-ubyte\")\n",
    "        x_test  = idx2numpy.convert_from_file(\"data/t10k-images.idx3-ubyte\")\n",
    "        y_test  = idx2numpy.convert_from_file(\"data/t10k-labels.idx1-ubyte\")\n",
    "        \n",
    "        x_train = pd.DataFrame(x_train.reshape(x_train.shape[0],x_train.shape[1]*x_train.shape[2]))\n",
    "        x_test = pd.DataFrame(x_test.reshape(x_test.shape[0],x_test.shape[1]*x_test.shape[2]))\n",
    "        y_train = pd.DataFrame(y_train,columns = [\"label\"])\n",
    "        y_test  = pd.DataFrame(y_test)\n",
    "        self.data = {\n",
    "            \"x_train\" : x_train,\n",
    "            \"y_train\"  : y_train,\n",
    "            \"x_test\" : x_test,\n",
    "            \"y_test\" : y_test\n",
    "        }\n",
    "        return self.data \n",
    "    \n",
    "    def normalize (self) :\n",
    "        x_train_norm = self.data[\"x_train\"] / 255.0\n",
    "        x_test_norm = self.data[\"x_test\"] / 255.0\n",
    "\n",
    "        data = {\n",
    "            \"x_train\" : x_train_norm,\n",
    "             \"y_train\": self.data[\"y_train\"],\n",
    "             \"x_test\"  : x_test_norm\n",
    "        }\n",
    "\n",
    "        return self.data \n",
    "        \n",
    "    def plot_summary_of_data (self) :\n",
    "        sns.set()\n",
    "        return sns.countplot(x= \"label\" , data= self.data[\"y_train\"])\n",
    "\n",
    "    def show_examples (self) :\n",
    "        x_train = self.data[\"x_train\"]\n",
    "        examples = x_train[100:105].to_numpy()\n",
    "        _, axes = plt.subplots(nrows=1, ncols=5, figsize=(10, 3))\n",
    "        for ax, image in zip(axes, examples):\n",
    "            ax.set_axis_off()\n",
    "            image = image.reshape(28, 28)\n",
    "            ax.imshow(image, cmap=plt.cm.gray_r, interpolation='nearest')\n",
    "        return plt.show()\n",
    "    \n",
    "    def convert_MC_to_BC(self):\n",
    "        y_train = (self.data[\"y_train\"] == self.number_need )\n",
    "        y_test = (self.data[\"y_test\"] == self.number_need)\n",
    "        new_data = {}\n",
    "        new_data = {\n",
    "            'x_train' : self.data[\"x_train\"],\n",
    "            'y_train' : y_train,\n",
    "            'x_test'  : self.data['x_test']\n",
    "        }\n",
    "        \n",
    "        return new_data \n",
    "\n",
    "    \n",
    "    \n",
    "    \n"
   ]
  },
  {
   "cell_type": "code",
   "execution_count": 238,
   "metadata": {},
   "outputs": [
    {
     "data": {
      "image/png": "[encoded data removed]",
      "text/plain": [
       "<Figure size 432x288 with 1 Axes>"
      ]
     },
     "metadata": {},
     "output_type": "display_data"
    },
    {
     "data": {
      "image/png": "[encoded data removed]",
      "text/plain": [
       "<Figure size 720x216 with 5 Axes>"
      ]
     },
     "metadata": {},
     "output_type": "display_data"
    }
   ],
   "source": [
    "pre_model = pre_model(4)\n",
    "pre_model.read_data()\n",
    "pre_model.normalize()\n",
    "pre_model.plot_summary_of_data()\n",
    "pre_model.show_examples()\n",
    "data = pre_model.convert_MC_to_BC()"
   ]
  },
  {
   "cell_type": "code",
   "execution_count": 239,
   "metadata": {},
   "outputs": [
    {
     "name": "stderr",
     "output_type": "stream",
     "text": [
      "C:\\Users\\mohamed seyam\\anaconda3\\lib\\site-packages\\sklearn\\utils\\validation.py:73: DataConversionWarning: A column-vector y was passed when a 1d array was expected. Please change the shape of y to (n_samples, ), for example using ravel().\n",
      "  return f(**kwargs)\n",
      "C:\\Users\\mohamed seyam\\anaconda3\\lib\\site-packages\\sklearn\\linear_model\\_logistic.py:762: ConvergenceWarning: lbfgs failed to converge (status=1):\n",
      "STOP: TOTAL NO. of ITERATIONS REACHED LIMIT.\n",
      "\n",
      "Increase the number of iterations (max_iter) or scale the data as shown in:\n",
      "    https://scikit-learn.org/stable/modules/preprocessing.html\n",
      "Please also refer to the documentation for alternative solver options:\n",
      "    https://scikit-learn.org/stable/modules/linear_model.html#logistic-regression\n",
      "  n_iter_i = _check_optimize_result(\n"
     ]
    },
    {
     "data": {
      "text/plain": [
       "LogisticRegression()"
      ]
     },
     "execution_count": 239,
     "metadata": {},
     "output_type": "execute_result"
    }
   ],
   "source": [
    "model = LogisticRegression(max_iter = 100 )\n",
    "model.fit(data[\"x_train\"],data[\"y_train\"])"
   ]
  },
  {
   "cell_type": "code",
   "execution_count": 240,
   "metadata": {},
   "outputs": [
    {
     "data": {
      "text/plain": [
       "array([False, False, False, ...,  True, False, False])"
      ]
     },
     "execution_count": 240,
     "metadata": {},
     "output_type": "execute_result"
    }
   ],
   "source": [
    "predictions = model.predict(data[\"x_test\"])\n",
    "predictions"
   ]
  },
  {
   "cell_type": "code",
   "execution_count": 241,
   "metadata": {},
   "outputs": [
    {
     "data": {
      "image/png": "[encoded data removed]",
      "text/plain": [
       "<Figure size 720x216 with 16 Axes>"
      ]
     },
     "metadata": {},
     "output_type": "display_data"
    }
   ],
   "source": [
    "x_test = data[\"x_test\"].to_numpy()\n",
    "_, axes = plt.subplots(nrows=1, ncols=16, figsize=(10, 3))\n",
    "for ax, image, prediction in zip(axes, x_test, predictions):\n",
    "    ax.set_axis_off()\n",
    "    image = image.reshape(28, 28)\n",
    "    ax.imshow(image, cmap=plt.cm.gray_r, interpolation='nearest')\n",
    "    ax.set_title(f' {prediction}')"
   ]
  },
  {
   "cell_type": "raw",
   "metadata": {},
   "source": [
    "train_pred = model.predict(data[\"x_train\"])\n",
    "print(f\"accuracy of train == {np.mean(train_pred == data['y_train'])}\" )"
   ]
  },
  {
   "cell_type": "code",
   "execution_count": null,
   "metadata": {},
   "outputs": [],
   "source": []
  }
 ],
 "metadata": {
  "kernelspec": {
   "display_name": "Python 3",
   "language": "python",
   "name": "python3"
  },
  "language_info": {
   "codemirror_mode": {
    "name": "ipython",
    "version": 3
   },
   "file_extension": ".py",
   "mimetype": "text/x-python",
   "name": "python",
   "nbconvert_exporter": "python",
   "pygments_lexer": "ipython3",
   "version": "3.8.3"
  }
 },
 "nbformat": 4,
 "nbformat_minor": 4
}
